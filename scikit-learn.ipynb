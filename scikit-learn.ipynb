{
 "cells": [
  {
   "cell_type": "code",
   "execution_count": 3,
   "metadata": {},
   "outputs": [],
   "source": [
    "import numpy as np \n",
    "from sklearn.linear_model import LinearRegression\n",
    "from sklearn.preprocessing import StandardScaler, PolynomialFeatures\n",
    "from sklearn.model_selection import train_test_split\n",
    "from sklearn.metrics import mean_squared_error"
   ]
  },
  {
   "cell_type": "code",
   "execution_count": 43,
   "metadata": {},
   "outputs": [],
   "source": [
    "# This is How you load data from a csv file.\n",
    "# CSV is basically Just a comma Separated File , That is why we are using it to load text, and Delimiter will result in different COlumns of the data Array.\n",
    "data = np.loadtxt('./data/data_w3_ex1.csv',delimiter=',')"
   ]
  },
  {
   "cell_type": "code",
   "execution_count": 44,
   "metadata": {},
   "outputs": [
    {
     "name": "stdout",
     "output_type": "stream",
     "text": [
      "(50,) (50,)\n"
     ]
    }
   ],
   "source": [
    "# Split the data into two separate arrays for features and targets.\n",
    "x=data[:,0]\n",
    "y=data[:,1]\n",
    "print(x.shape,y.shape)"
   ]
  },
  {
   "cell_type": "code",
   "execution_count": 45,
   "metadata": {},
   "outputs": [
    {
     "name": "stdout",
     "output_type": "stream",
     "text": [
      "shape of X :(50, 1) , and shape  of y : (50, 1)\n"
     ]
    }
   ],
   "source": [
    "# Convert them into 2D Array Because scikit lib requires 2d Arrays\n",
    "x=np.expand_dims(x,axis=1)\n",
    "y=np.expand_dims(y,axis=1)\n",
    "print(f\"shape of X :{x.shape} , and shape  of y : {y.shape}\")\n"
   ]
  },
  {
   "cell_type": "code",
   "execution_count": 46,
   "metadata": {},
   "outputs": [
    {
     "data": {
      "text/plain": [
       "'\\nJust checking the Function of np.expand_dims()\\narr = np.array([[1,2],[3,4],[5,6]])\\nprint(arr.shape)\\narr = np.expand_dims(arr,axis = 1)\\narr = np.expand_dims(arr,axis = 3)\\nprint(arr.shape)\\n'"
      ]
     },
     "execution_count": 46,
     "metadata": {},
     "output_type": "execute_result"
    }
   ],
   "source": [
    "'''\n",
    "Just checking the Function of np.expand_dims()\n",
    "arr = np.array([[1,2],[3,4],[5,6]])\n",
    "print(arr.shape)\n",
    "arr = np.expand_dims(arr,axis = 1)\n",
    "arr = np.expand_dims(arr,axis = 3)\n",
    "print(arr.shape)\n",
    "'''"
   ]
  },
  {
   "cell_type": "code",
   "execution_count": null,
   "metadata": {},
   "outputs": [],
   "source": []
  }
 ],
 "metadata": {
  "kernelspec": {
   "display_name": "Python 3",
   "language": "python",
   "name": "python3"
  },
  "language_info": {
   "codemirror_mode": {
    "name": "ipython",
    "version": 3
   },
   "file_extension": ".py",
   "mimetype": "text/x-python",
   "name": "python",
   "nbconvert_exporter": "python",
   "pygments_lexer": "ipython3",
   "version": "3.12.3"
  }
 },
 "nbformat": 4,
 "nbformat_minor": 2
}
